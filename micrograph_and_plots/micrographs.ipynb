{
 "cells": [
  {
   "cell_type": "code",
   "execution_count": null,
   "metadata": {},
   "outputs": [],
   "source": [
    "import os\n",
    "from pathlib import Path\n",
    "\n",
    "import cv2\n",
    "import numpy as np\n",
    "from tqdm import tqdm\n",
    "import matplotlib.pyplot as plt\n",
    "from scipy.ndimage import rotate\n",
    "from scipy import signal\n",
    "\n",
    "from skimage import color, data, restoration\n",
    "\n",
    "from utils.utils import (get_slice,\n",
    "                         get_metadata,\n",
    "                         mip_threeview,\n",
    "                         apply_lut,\n",
    "                         _idx_from_coord)\n",
    "from annotation.annotations_io import load_annotations"
   ]
  },
  {
   "cell_type": "code",
   "execution_count": null,
   "metadata": {},
   "outputs": [],
   "source": [
    "path = Path(r'C:\\Users\\Mahdi\\OneDrive - Northeastern University\\Cynthia Chai\\PS9111\\microfluidics\\01_22_2021\\animal_3\\run_1\\processed')"
   ]
  },
  {
   "cell_type": "code",
   "execution_count": null,
   "metadata": {},
   "outputs": [],
   "source": [
    "def plot_2d(x, grid):\n",
    "    plt.figure(figsize=(10, 10))\n",
    "    plt.grid(grid)\n",
    "    plt.imshow(x)\n",
    "    plt.show()\n",
    "    \n",
    "def plot_3d(v, grid=True):\n",
    "    r = v[0]\n",
    "    g = v[1]\n",
    "    if v.shape[0] == 3:\n",
    "        b = v[2]\n",
    "    else:\n",
    "        b = np.zeros_like(r)\n",
    "    plot_2d(np.stack([r, g, b], axis=-1), grid)\n",
    "    \n",
    "def plot_3d_cv2(v, grid=False):\n",
    "    plot_2d(np.stack([v[:,:,2], v[:,:,1], v[:,:,0]], axis=-1), grid)\n",
    "\n",
    "def plot_4d(v, grid=True):\n",
    "    r = mip_threeview(v[0])\n",
    "    g = mip_threeview(v[1])\n",
    "    b = np.zeros_like(r)\n",
    "    plot_2d(np.stack([r, g, b], axis=-1), grid)\n",
    "    \n",
    "def get_rotated(v, angle=0):\n",
    "    return rotate(v[...], angle, axes=(2,3), reshape=True)\n",
    "    \n",
    "            \n",
    "def get_aligned(v):\n",
    "    output = np.zeros_like(v)\n",
    "    output[1,...] = v[1, ...]\n",
    "    mip_v = np.max(v, axis=1)\n",
    "    \n",
    "    w = np.eye(2, 3, dtype=np.float32)\n",
    "    criteria = (cv2.TERM_CRITERIA_EPS | cv2.TERM_CRITERIA_COUNT, 5000,  1e-10)\n",
    "    \n",
    "    input_mask = np.uint8(mip_v[1] > -1)\n",
    "    (_, w) = cv2.findTransformECC(mip_v[1], mip_v[0], w, cv2.MOTION_EUCLIDEAN,\n",
    "                                  criteria, input_mask, 5)\n",
    "    for z in range(v.shape[1]):\n",
    "        output[0, z, :, :] = cv2.warpAffine(v[0, z, :, :], w, (v.shape[3], v.shape[2]),\n",
    "                                            flags=cv2.INTER_LINEAR + cv2.WARP_INVERSE_MAP)\n",
    "    return output\n",
    "\n",
    "\n",
    "\n",
    "def gkern(kernlen=3, std=1):\n",
    "    gkern1d = signal.gaussian(kernlen, std=std).reshape(kernlen, 1)\n",
    "    gkern2d = np.outer(gkern1d, gkern1d)\n",
    "    return gkern2d / np.sum(gkern2d)\n",
    "\n",
    "def sharpen(frame, ct):\n",
    "    kernel = np.array([[-1, -1, -1],\n",
    "                       [-1, ct, -1],\n",
    "                       [-1, -1, -1]])\n",
    "    return signal.convolve2d(frame, kernel, 'same')\n",
    "    \n",
    "    \n",
    "def blur(frame, kernel_size=3, kernel_sigma=1):\n",
    "    kernel = gkern(kernlen=kernel_size, std=kernel_sigma)\n",
    "    return signal.convolve2d(frame, kernel, 'same')\n",
    "\n",
    "def denoise(frame, kernel_size=3, kernel_sigma=1 ,iterations=30):\n",
    "    kernel = gkern(kernlen=kernel_size, std=kernel_sigma)\n",
    "    temp = signal.convolve2d(frame, kernel, 'same')\n",
    "    return restoration.richardson_lucy(temp, kernel, iterations)"
   ]
  },
  {
   "cell_type": "code",
   "execution_count": null,
   "metadata": {},
   "outputs": [],
   "source": [
    "raw_vol = get_slice(path, 277)\n",
    "plot_4d(raw_vol)"
   ]
  },
  {
   "cell_type": "code",
   "execution_count": null,
   "metadata": {},
   "outputs": [],
   "source": [
    "flip_x = False\n",
    "flip_y = False\n",
    "\n",
    "if flip_x:\n",
    "    raw_vol = np.flip(raw_vol, (1, 2))\n",
    "if flip_y:\n",
    "    raw_vol = np.flip(raw_vol, (1, 3))\n",
    "\n",
    "plot_4d(raw_vol)"
   ]
  },
  {
   "cell_type": "code",
   "execution_count": null,
   "metadata": {},
   "outputs": [],
   "source": [
    "rotated_vol = get_rotated(raw_vol, angle=0)\n",
    "rotated_vol = np.clip(rotated_vol, raw_vol.min(), raw_vol.max())\n",
    "\n",
    "plot_4d(rotated_vol)"
   ]
  },
  {
   "cell_type": "code",
   "execution_count": null,
   "metadata": {},
   "outputs": [],
   "source": [
    "z_cropped_vol = rotated_vol[:, 1:-1, ...]\n",
    "\n",
    "plot_4d(z_cropped_vol)"
   ]
  },
  {
   "cell_type": "code",
   "execution_count": null,
   "metadata": {},
   "outputs": [],
   "source": [
    "aligned_vol = get_aligned(z_cropped_vol)\n",
    "aligned_vol = np.clip(aligned_vol, raw_vol.min(), raw_vol.max())\n",
    "\n",
    "plot_4d(aligned_vol)"
   ]
  },
  {
   "cell_type": "code",
   "execution_count": null,
   "metadata": {},
   "outputs": [],
   "source": [
    "cropped_vol = aligned_vol[:,:,50:150,100:300]\n",
    "plot_4d(cropped_vol, grid=True)"
   ]
  },
  {
   "cell_type": "code",
   "execution_count": null,
   "metadata": {},
   "outputs": [],
   "source": [
    "threshold_vol = np.zeros_like(cropped_vol)\n",
    "\n",
    "for c in range(cropped_vol.shape[0]):\n",
    "    gamma_corrected = cropped_vol[c] ** 0.5\n",
    "    temp = np.clip((gamma_corrected - np.quantile(gamma_corrected, 0.97)) / (gamma_corrected.max() - np.quantile(gamma_corrected, 0.97)) , 0.0, 1.0)\n",
    "    threshold_vol[c] = temp ** 2.0\n",
    "\n",
    "plot_4d(cropped_vol)    \n",
    "plot_4d(threshold_vol)\n",
    "temp = np.stack([threshold_vol[0] ** 0.45, threshold_vol[1] ** 0.45])\n",
    "plot_4d(temp)"
   ]
  },
  {
   "cell_type": "code",
   "execution_count": null,
   "metadata": {
    "scrolled": true
   },
   "outputs": [],
   "source": [
    "scale = (10, 10, 10)\n",
    "\n",
    "mip_z = np.dstack((np.zeros_like(np.max(threshold_vol[0], axis=(0))),\n",
    "                   np.max(threshold_vol[1], axis=(0)),\n",
    "                   np.max(threshold_vol[0], axis=(0))))\n",
    "mip_y = np.dstack((np.zeros_like(np.max(threshold_vol[0], axis=(1))),\n",
    "                   np.max(threshold_vol[1], axis=(1)),\n",
    "                   np.max(threshold_vol[0], axis=(1))))\n",
    "mip_x = np.transpose(np.dstack((np.zeros_like(np.max(threshold_vol[0], axis=(2))),\n",
    "                                np.max(threshold_vol[1], axis=(2)),\n",
    "                                np.max(threshold_vol[0], axis=(2)))), (1, 0, 2))\n",
    "\n",
    "resized_z = cv2.resize(mip_z, (scale[2] * mip_z.shape[1], scale[1] * mip_z.shape[0]))\n",
    "resized_y = cv2.resize(mip_y, (scale[2] * mip_y.shape[1], scale[0] * mip_y.shape[0]))\n",
    "resized_x = cv2.resize(mip_x, (scale[0] * mip_x.shape[1], scale[1] * mip_x.shape[0]))\n",
    "\n",
    "scaled_y = cv2.resize(mip_y, (mip_y.shape[1], 1 * mip_y.shape[0]))\n",
    "scaled_x = cv2.resize(mip_x, (1 * mip_x.shape[1], mip_x.shape[0]))\n",
    "\n",
    "\n",
    "plot_3d_cv2(resized_z)\n",
    "plot_3d_cv2(resized_y)\n",
    "plot_3d_cv2(resized_x)"
   ]
  },
  {
   "cell_type": "code",
   "execution_count": null,
   "metadata": {},
   "outputs": [],
   "source": [
    "resized_mip = np.ones((resized_z.shape[0] + resized_y.shape[0], resized_z.shape[1] + resized_x.shape[1], 3))\n",
    "resized_mip[:resized_z.shape[0], :resized_z.shape[1]] = resized_z ** 0.45\n",
    "resized_mip[resized_z.shape[0]:, :resized_z.shape[1]] = resized_y ** 0.45\n",
    "resized_mip[:resized_z.shape[0], resized_z.shape[1]:] = resized_x ** 0.45\n",
    "plot_3d_cv2(resized_mip)\n",
    "\n",
    "mip = np.ones((mip_z.shape[0] + scaled_y.shape[0], mip_z.shape[1] + scaled_y.shape[0], 3))\n",
    "mip[:mip_z.shape[0], :mip_z.shape[1]] = mip_z ** 0.45\n",
    "mip[mip_z.shape[0]:, :mip_z.shape[1]] = scaled_y ** 0.45\n",
    "mip[:mip_z.shape[0], mip_z.shape[1]:] = scaled_x ** 0.45\n",
    "plot_3d_cv2(mip)"
   ]
  },
  {
   "cell_type": "code",
   "execution_count": null,
   "metadata": {},
   "outputs": [],
   "source": [
    "resized_uint8 = apply_lut(resized_mip, 0.0, 1.0, np.uint8)\n",
    "uint8 = apply_lut(mip, 0.0, 1.0, np.uint8)\n",
    "\n",
    "file_name1 = os.path.join(path, \"PS9111 animal_3 resized.png\")\n",
    "file_name2 = os.path.join(path, \"PS9111 animal_3.png\")\n",
    "\n",
    "array_name1 = os.path.join(path, \"PS9111 animal_3 resized.npy\")\n",
    "array_name2 = os.path.join(path, \"PS9111 animal_3.npy\")\n",
    "\n",
    "cv2.imwrite(file_name1, resized_uint8)\n",
    "cv2.imwrite(file_name2, uint8)\n",
    "\n",
    "np.save(array_name1, resized_uint8)\n",
    "np.save(array_name2, uint8)"
   ]
  },
  {
   "cell_type": "code",
   "execution_count": null,
   "metadata": {},
   "outputs": [],
   "source": [
    "y, x, _ = resized_z.shape\n",
    "z, x, _ = resized_y.shape\n",
    "sectioned_image = resized_uint8.copy()\n",
    "\n",
    "sectioned_image[y-20:y, :, :] = 255\n",
    "sectioned_image[:, x-20:x, :] = 255\n",
    "\n",
    "plot_3d_cv2(sectioned_image)"
   ]
  },
  {
   "cell_type": "code",
   "execution_count": null,
   "metadata": {},
   "outputs": [],
   "source": [
    "scalebar_image = sectioned_image.copy()\n",
    "\n",
    "\n",
    "offset_x = 100\n",
    "offset_y = 100\n",
    "bar_h = 20\n",
    "bar_w = 250\n",
    "font_scale=1.5\n",
    "thickness=5\n",
    "scalebar_image[offset_y:offset_y + bar_h, offset_x:offset_x + bar_w, :] = 255\n",
    "txt1 = '10 um'\n",
    "(w1, h1), bl1 = cv2.getTextSize(text=txt1, fontFace=cv2.FONT_HERSHEY_DUPLEX, fontScale=font_scale, thickness=thickness)\n",
    "scalebar_image = cv2.putText(scalebar_image, txt1, (offset_x, offset_y + bar_h + h1 + 20), cv2.FONT_HERSHEY_SIMPLEX, \n",
    "                             font_scale, (255, 255, 255), thickness, cv2.LINE_AA)\n",
    "\n",
    "plot_3d_cv2(scalebar_image)"
   ]
  },
  {
   "cell_type": "code",
   "execution_count": null,
   "metadata": {},
   "outputs": [],
   "source": [
    "coordinate_image = scalebar_image.copy()\n",
    "bar_h = 5\n",
    "coordinate_image = cv2.arrowedLine(coordinate_image, (x-60, y-60), (x-110, y-60), \n",
    "                (255, 255, 255), bar_h, tipLength = 0.2)\n",
    "coordinate_image = cv2.putText(coordinate_image, 'X', (x-140, y-50), cv2.FONT_HERSHEY_SIMPLEX, \n",
    "                             font_scale * 0.6, (255, 255, 255), thickness, cv2.LINE_AA)\n",
    "\n",
    "coordinate_image = cv2.arrowedLine(coordinate_image, (x-60, y-60), (x-60, y-110), \n",
    "                (255, 255, 255), bar_h, tipLength = 0.2)\n",
    "coordinate_image = cv2.putText(coordinate_image, 'Y', (x-70, y-130), cv2.FONT_HERSHEY_SIMPLEX, \n",
    "                             font_scale * 0.6, (255, 255, 255), thickness, cv2.LINE_AA)\n",
    "\n",
    "coordinate_image = cv2.arrowedLine(coordinate_image, (x-60, y+40), (x-110, y+40), \n",
    "                (255, 255, 255), bar_h, tipLength = 0.2)\n",
    "coordinate_image = cv2.putText(coordinate_image, 'X', (x-140, y+50), cv2.FONT_HERSHEY_SIMPLEX, \n",
    "                             font_scale  * 0.6, (255, 255, 255), thickness, cv2.LINE_AA)\n",
    "\n",
    "coordinate_image = cv2.arrowedLine(coordinate_image, (x-60, y+40), (x-60, y+90), \n",
    "                (255, 255, 255), bar_h, tipLength = 0.2)\n",
    "coordinate_image = cv2.putText(coordinate_image, 'Z', (x-70, y+130), cv2.FONT_HERSHEY_SIMPLEX, \n",
    "                             font_scale  * 0.6, (255, 255, 255), thickness, cv2.LINE_AA)\n",
    "\n",
    "coordinate_image = cv2.arrowedLine(coordinate_image, (x+40, y-60), (x+90, y-60), \n",
    "                (255, 255, 255), bar_h, tipLength = 0.2)\n",
    "coordinate_image = cv2.putText(coordinate_image, 'Z', (x+100, y-50), cv2.FONT_HERSHEY_SIMPLEX, \n",
    "                             font_scale  * 0.6, (255, 255, 255), thickness, cv2.LINE_AA)\n",
    "\n",
    "coordinate_image = cv2.arrowedLine(coordinate_image, (x+40, y-60), (x+40, y-110), \n",
    "                (255, 255, 255), bar_h, tipLength = 0.2)\n",
    "coordinate_image = cv2.putText(coordinate_image, 'Y', (x+30, y-130), cv2.FONT_HERSHEY_SIMPLEX, \n",
    "                             font_scale  * 0.6, (255, 255, 255), thickness, cv2.LINE_AA)\n",
    "\n",
    "plot_3d_cv2(coordinate_image)"
   ]
  },
  {
   "cell_type": "code",
   "execution_count": null,
   "metadata": {},
   "outputs": [],
   "source": [
    "zyxs = [[135,630,1020], [130,650,1210], [150,1430,1250], [155,1320,1020]]\n",
    "annotated_image = coordinate_image.copy()\n",
    "\n",
    "for i ,zyx in enumerate(zyxs):\n",
    "        annotated_image = cv2.rectangle(annotated_image, (zyx[2]-55,zyx[1]-55), (zyx[2]+55,zyx[1]+55), (0,0,255), 5)\n",
    "        annotated_image = cv2.rectangle(annotated_image, (zyx[2]-55,y+zyx[0]-25), (zyx[2]+55,y+zyx[0]+25), (0,0,255), 5)\n",
    "        annotated_image = cv2.rectangle(annotated_image, (x+zyx[0]-25,zyx[1]-55), (x+zyx[0]+25,zyx[1]+55), (0,0,255), 5)\n",
    "plot_3d_cv2(annotated_image)"
   ]
  }
 ],
 "metadata": {
  "kernelspec": {
   "display_name": "Python 3",
   "language": "python",
   "name": "python3"
  },
  "language_info": {
   "codemirror_mode": {
    "name": "ipython",
    "version": 3
   },
   "file_extension": ".py",
   "mimetype": "text/x-python",
   "name": "python",
   "nbconvert_exporter": "python",
   "pygments_lexer": "ipython3",
   "version": "3.7.7"
  }
 },
 "nbformat": 4,
 "nbformat_minor": 4
}
