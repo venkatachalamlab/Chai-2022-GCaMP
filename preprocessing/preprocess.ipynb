{
 "cells": [
  {
   "cell_type": "code",
   "execution_count": null,
   "metadata": {},
   "outputs": [],
   "source": [
    "from pathlib import Path\n",
    "\n",
    "from utils.utils import compress\n",
    "    \n",
    "\n",
    "def make_data(path):\n",
    "    compress(path)\n",
    "    compressed_path = Path(path) / 'compressed'\n",
    "    dst_path = Path(path) / 'preprocessed'\n",
    "    \n",
    "    if not os.path.exists(dst_path):\n",
    "        os.makedirs(dst_path)\n",
    "\n",
    "    metadata = get_metadata(compressed_path)\n",
    "    shape_t = metadata[\"shape_t\"]\n",
    "    shape_c = metadata[\"shape_c\"]\n",
    "    shape_z = metadata[\"shape_z\"]\n",
    "    shape_y = metadata[\"shape_y\"]\n",
    "    shape_x = metadata[\"shape_x\"]\n",
    "\n",
    "    filename = os.path.join(dst_path, \"data.h5\")\n",
    "    metadata_filename = os.path.join(dst_path, \"metadata.json\")\n",
    "\n",
    "    if os.path.isfile(filename):\n",
    "        os.remove(filename)\n",
    "\n",
    "    shape = (shape_c, shape_z, shape_y, shape_x)\n",
    "\n",
    "    writer = TimestampedArrayWriter(None, filename,\\\n",
    "                                    shape, dtype=np.uint8,\n",
    "                                    groupname=None, compression=\"gzip\",\n",
    "                                    compression_opts=5)\n",
    "\n",
    "    times = get_times(compressed_path)\n",
    "    for t in tqdm(range(shape_t)):\n",
    "        vol = get_slice(compressed_path, t)\n",
    "        vol = apply_lut(vol, 0.00015, 0.0625, newtype=np.uint8)\n",
    "        writer.append_data((times[t], vol))\n",
    "        \n",
    "    metadata[\"dtype\"] = \"uint8\"\n",
    "\n",
    "    with open(metadata_filename, 'w') as outfile:\n",
    "        json.dump(metadata, outfile, indent=4)\n",
    "\n",
    "    writer.close()\n",
    "   "
   ]
  }
 ],
 "metadata": {
  "kernelspec": {
   "display_name": "Python 3",
   "language": "python",
   "name": "python3"
  },
  "language_info": {
   "codemirror_mode": {
    "name": "ipython",
    "version": 3
   },
   "file_extension": ".py",
   "mimetype": "text/x-python",
   "name": "python",
   "nbconvert_exporter": "python",
   "pygments_lexer": "ipython3",
   "version": "3.7.7"
  }
 },
 "nbformat": 4,
 "nbformat_minor": 4
}
